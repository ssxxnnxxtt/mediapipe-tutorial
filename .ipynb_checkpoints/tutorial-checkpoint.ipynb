{
 "cells": [
  {
   "cell_type": "markdown",
   "id": "2c8c13cb",
   "metadata": {},
   "source": [
    "# Mediapipe tutorial"
   ]
  },
  {
   "cell_type": "markdown",
   "id": "44088d0f",
   "metadata": {},
   "source": [
    "<img src='cover_image/mediapipe_small.png'>"
   ]
  },
  {
   "cell_type": "markdown",
   "id": "915045bc",
   "metadata": {},
   "source": [
    "## First, import required libraries"
   ]
  },
  {
   "cell_type": "code",
   "execution_count": 1,
   "id": "6cb41413",
   "metadata": {},
   "outputs": [],
   "source": [
    "#Video processing\n",
    "import cv2\n",
    "import mediapipe as mp\n",
    "\n",
    "#Manage .csv file\n",
    "import numpy as np\n",
    "import pandas as pd"
   ]
  },
  {
   "cell_type": "markdown",
   "id": "e7424bac",
   "metadata": {},
   "source": [
    "## Play with your camera"
   ]
  },
  {
   "cell_type": "code",
   "execution_count": null,
   "id": "01b5960e",
   "metadata": {},
   "outputs": [],
   "source": []
  }
 ],
 "metadata": {
  "kernelspec": {
   "display_name": "Python 3 (ipykernel)",
   "language": "python",
   "name": "python3"
  },
  "language_info": {
   "codemirror_mode": {
    "name": "ipython",
    "version": 3
   },
   "file_extension": ".py",
   "mimetype": "text/x-python",
   "name": "python",
   "nbconvert_exporter": "python",
   "pygments_lexer": "ipython3",
   "version": "3.9.7"
  }
 },
 "nbformat": 4,
 "nbformat_minor": 5
}
